{
 "cells": [
  {
   "cell_type": "code",
   "execution_count": 1,
   "id": "supported-entrepreneur",
   "metadata": {},
   "outputs": [],
   "source": [
    "import warnings\n",
    "warnings.filterwarnings(\"ignore\")"
   ]
  },
  {
   "cell_type": "code",
   "execution_count": 2,
   "id": "determined-dominican",
   "metadata": {},
   "outputs": [
    {
     "name": "stdout",
     "output_type": "stream",
     "text": [
      "The scikit-learn version is 0.24.1.\n"
     ]
    }
   ],
   "source": [
    "import dask.dataframe as dd\n",
    "import pandas as pd\n",
    "import numpy as np\n",
    "import pickle\n",
    "import datetime as dt\n",
    "\n",
    "import os, sys\n",
    "from matplotlib import pyplot as plt\n",
    "\n",
    "\n",
    "\n",
    "plt.style.use('ggplot')\n",
    "\n",
    "import sklearn\n",
    "from sklearn.base import BaseEstimator, TransformerMixin\n",
    "print('The scikit-learn version is {}.'.format(sklearn.__version__))\n",
    "\n",
    "\n",
    "%matplotlib inline"
   ]
  },
  {
   "cell_type": "code",
   "execution_count": 3,
   "id": "monthly-speaking",
   "metadata": {},
   "outputs": [],
   "source": [
    "from sklearn.linear_model import LogisticRegression\n",
    "from sklearn.ensemble import GradientBoostingClassifier\n",
    "from catboost import CatBoostClassifier\n",
    "from lightgbm import LGBMClassifier\n",
    "from sklearn.ensemble import RandomForestClassifier, RandomForestRegressor\n",
    "from sklearn.neighbors import KNeighborsClassifier\n",
    "\n",
    "from sklearn.preprocessing import StandardScaler\n",
    "from sklearn.datasets import make_classification\n",
    "from sklearn.model_selection import train_test_split\n",
    "from sklearn.pipeline import Pipeline\n",
    "from sklearn.metrics import classification_report\n",
    "from sklearn.metrics import f1_score\n",
    "\n",
    "from imblearn.over_sampling import SMOTE"
   ]
  },
  {
   "cell_type": "markdown",
   "id": "introductory-examination",
   "metadata": {},
   "source": [
    "# load data"
   ]
  },
  {
   "cell_type": "code",
   "execution_count": 4,
   "id": "collectible-factor",
   "metadata": {},
   "outputs": [],
   "source": [
    "PATH_DATA = \"материалы по КП\""
   ]
  },
  {
   "cell_type": "code",
   "execution_count": 5,
   "id": "right-dylan",
   "metadata": {},
   "outputs": [],
   "source": [
    "data_train = dd.read_csv(os.path.join(PATH_DATA,'data_train.csv'))\n",
    "data_test = dd.read_csv(os.path.join(PATH_DATA,'data_test.csv'))"
   ]
  },
  {
   "cell_type": "code",
   "execution_count": 6,
   "id": "spoken-sharing",
   "metadata": {},
   "outputs": [],
   "source": [
    "data_train.name = 'train'\n",
    "data_test.name = 'test'\n",
    "target = 'target'\n",
    "RANDOM_STATE = 42"
   ]
  },
  {
   "cell_type": "code",
   "execution_count": 7,
   "id": "quality-maximum",
   "metadata": {},
   "outputs": [],
   "source": [
    "delimiter = '\\\\t'\n",
    "features = dd.read_csv('материалы по КП/features.csv',\n",
    "                        delimiter= delimiter,\n",
    "                       blocksize=2**27)"
   ]
  },
  {
   "cell_type": "markdown",
   "id": "above-passport",
   "metadata": {},
   "source": [
    "# data processing"
   ]
  },
  {
   "cell_type": "code",
   "execution_count": 8,
   "id": "sustained-ebony",
   "metadata": {},
   "outputs": [],
   "source": [
    "def data_processing(data):\n",
    "    data_pr = data.merge(features, on=['id', 'buy_time']).compute()\n",
    "    data_pr = data_pr.drop(['Unnamed: 0'],1)\n",
    "    data_pr.to_csv(f'data_{data.name}_mib.csv', encoding='utf-8')"
   ]
  },
  {
   "cell_type": "code",
   "execution_count": 9,
   "id": "governing-singing",
   "metadata": {},
   "outputs": [],
   "source": [
    "# data_processing(data_train)"
   ]
  },
  {
   "cell_type": "code",
   "execution_count": 10,
   "id": "sacred-nickname",
   "metadata": {},
   "outputs": [],
   "source": [
    "# data_processing(data_test)"
   ]
  },
  {
   "cell_type": "code",
   "execution_count": 58,
   "id": "traditional-victor",
   "metadata": {},
   "outputs": [],
   "source": [
    "data_train_mib = pd.read_csv('data_train_mib.csv',index_col=0)\n",
    "data_test_mib = pd.read_csv('data_test_mib.csv',index_col=0)\n",
    "# data_test_mib.set_index('id', inplace=True)"
   ]
  },
  {
   "cell_type": "code",
   "execution_count": 12,
   "id": "thousand-ferry",
   "metadata": {},
   "outputs": [],
   "source": [
    "data_train_chart = data_train_mib.copy()"
   ]
  },
  {
   "cell_type": "code",
   "execution_count": 13,
   "id": "everyday-spotlight",
   "metadata": {},
   "outputs": [],
   "source": [
    "data_train_mib.drop('vas_id',1,inplace=True)"
   ]
  },
  {
   "cell_type": "code",
   "execution_count": 14,
   "id": "diverse-wellington",
   "metadata": {},
   "outputs": [
    {
     "data": {
      "text/html": [
       "<div>\n",
       "<style scoped>\n",
       "    .dataframe tbody tr th:only-of-type {\n",
       "        vertical-align: middle;\n",
       "    }\n",
       "\n",
       "    .dataframe tbody tr th {\n",
       "        vertical-align: top;\n",
       "    }\n",
       "\n",
       "    .dataframe thead th {\n",
       "        text-align: right;\n",
       "    }\n",
       "</style>\n",
       "<table border=\"1\" class=\"dataframe\">\n",
       "  <thead>\n",
       "    <tr style=\"text-align: right;\">\n",
       "      <th></th>\n",
       "      <th>id</th>\n",
       "      <th>vas_id</th>\n",
       "      <th>buy_time</th>\n",
       "      <th>target</th>\n",
       "      <th>0</th>\n",
       "      <th>1</th>\n",
       "      <th>2</th>\n",
       "      <th>3</th>\n",
       "      <th>4</th>\n",
       "      <th>5</th>\n",
       "      <th>...</th>\n",
       "      <th>243</th>\n",
       "      <th>244</th>\n",
       "      <th>245</th>\n",
       "      <th>246</th>\n",
       "      <th>247</th>\n",
       "      <th>248</th>\n",
       "      <th>249</th>\n",
       "      <th>250</th>\n",
       "      <th>251</th>\n",
       "      <th>252</th>\n",
       "    </tr>\n",
       "  </thead>\n",
       "  <tbody>\n",
       "    <tr>\n",
       "      <th>0</th>\n",
       "      <td>3769599</td>\n",
       "      <td>5.0</td>\n",
       "      <td>1540760400</td>\n",
       "      <td>0.0</td>\n",
       "      <td>199.810029</td>\n",
       "      <td>-106.489112</td>\n",
       "      <td>185.869214</td>\n",
       "      <td>-159.096798</td>\n",
       "      <td>180.451754</td>\n",
       "      <td>-180.20179</td>\n",
       "      <td>...</td>\n",
       "      <td>-977.373846</td>\n",
       "      <td>-613.770792</td>\n",
       "      <td>-25.996269</td>\n",
       "      <td>-37.630448</td>\n",
       "      <td>-300.747724</td>\n",
       "      <td>-25.832889</td>\n",
       "      <td>-0.694428</td>\n",
       "      <td>-12.175933</td>\n",
       "      <td>-0.45614</td>\n",
       "      <td>1.0</td>\n",
       "    </tr>\n",
       "    <tr>\n",
       "      <th>1</th>\n",
       "      <td>3726958</td>\n",
       "      <td>2.0</td>\n",
       "      <td>1532293200</td>\n",
       "      <td>1.0</td>\n",
       "      <td>106.510029</td>\n",
       "      <td>58.440888</td>\n",
       "      <td>179.839214</td>\n",
       "      <td>227.803202</td>\n",
       "      <td>174.421754</td>\n",
       "      <td>206.69821</td>\n",
       "      <td>...</td>\n",
       "      <td>-733.373846</td>\n",
       "      <td>-463.770792</td>\n",
       "      <td>-25.996269</td>\n",
       "      <td>-37.630448</td>\n",
       "      <td>-234.747724</td>\n",
       "      <td>-22.832889</td>\n",
       "      <td>-0.694428</td>\n",
       "      <td>-9.175933</td>\n",
       "      <td>-0.45614</td>\n",
       "      <td>0.0</td>\n",
       "    </tr>\n",
       "    <tr>\n",
       "      <th>2</th>\n",
       "      <td>854525</td>\n",
       "      <td>6.0</td>\n",
       "      <td>1544994000</td>\n",
       "      <td>1.0</td>\n",
       "      <td>-96.119971</td>\n",
       "      <td>-386.899112</td>\n",
       "      <td>-110.060786</td>\n",
       "      <td>-439.506798</td>\n",
       "      <td>-115.478246</td>\n",
       "      <td>-460.61179</td>\n",
       "      <td>...</td>\n",
       "      <td>-977.373846</td>\n",
       "      <td>-613.770792</td>\n",
       "      <td>-25.996269</td>\n",
       "      <td>-37.630448</td>\n",
       "      <td>-306.747724</td>\n",
       "      <td>-25.832889</td>\n",
       "      <td>-0.694428</td>\n",
       "      <td>-12.175933</td>\n",
       "      <td>-0.45614</td>\n",
       "      <td>0.0</td>\n",
       "    </tr>\n",
       "    <tr>\n",
       "      <th>3</th>\n",
       "      <td>877039</td>\n",
       "      <td>4.0</td>\n",
       "      <td>1532898000</td>\n",
       "      <td>0.0</td>\n",
       "      <td>-96.799971</td>\n",
       "      <td>263.440888</td>\n",
       "      <td>-110.740786</td>\n",
       "      <td>270.163202</td>\n",
       "      <td>-116.158246</td>\n",
       "      <td>249.05821</td>\n",
       "      <td>...</td>\n",
       "      <td>-977.373846</td>\n",
       "      <td>-613.770792</td>\n",
       "      <td>-25.996269</td>\n",
       "      <td>-37.630448</td>\n",
       "      <td>-306.747724</td>\n",
       "      <td>-25.832889</td>\n",
       "      <td>-0.694428</td>\n",
       "      <td>-12.175933</td>\n",
       "      <td>-0.45614</td>\n",
       "      <td>0.0</td>\n",
       "    </tr>\n",
       "    <tr>\n",
       "      <th>4</th>\n",
       "      <td>743296</td>\n",
       "      <td>6.0</td>\n",
       "      <td>1531688400</td>\n",
       "      <td>0.0</td>\n",
       "      <td>-92.559971</td>\n",
       "      <td>-380.799112</td>\n",
       "      <td>-102.260786</td>\n",
       "      <td>-429.166798</td>\n",
       "      <td>-107.678246</td>\n",
       "      <td>-450.27179</td>\n",
       "      <td>...</td>\n",
       "      <td>-734.373846</td>\n",
       "      <td>-374.770792</td>\n",
       "      <td>-23.996269</td>\n",
       "      <td>-18.630448</td>\n",
       "      <td>1610.252276</td>\n",
       "      <td>-14.832889</td>\n",
       "      <td>-0.694428</td>\n",
       "      <td>-1.175933</td>\n",
       "      <td>-0.45614</td>\n",
       "      <td>0.0</td>\n",
       "    </tr>\n",
       "  </tbody>\n",
       "</table>\n",
       "<p>5 rows × 257 columns</p>\n",
       "</div>"
      ],
      "text/plain": [
       "        id  vas_id    buy_time  target           0           1           2  \\\n",
       "0  3769599     5.0  1540760400     0.0  199.810029 -106.489112  185.869214   \n",
       "1  3726958     2.0  1532293200     1.0  106.510029   58.440888  179.839214   \n",
       "2   854525     6.0  1544994000     1.0  -96.119971 -386.899112 -110.060786   \n",
       "3   877039     4.0  1532898000     0.0  -96.799971  263.440888 -110.740786   \n",
       "4   743296     6.0  1531688400     0.0  -92.559971 -380.799112 -102.260786   \n",
       "\n",
       "            3           4          5  ...         243         244        245  \\\n",
       "0 -159.096798  180.451754 -180.20179  ... -977.373846 -613.770792 -25.996269   \n",
       "1  227.803202  174.421754  206.69821  ... -733.373846 -463.770792 -25.996269   \n",
       "2 -439.506798 -115.478246 -460.61179  ... -977.373846 -613.770792 -25.996269   \n",
       "3  270.163202 -116.158246  249.05821  ... -977.373846 -613.770792 -25.996269   \n",
       "4 -429.166798 -107.678246 -450.27179  ... -734.373846 -374.770792 -23.996269   \n",
       "\n",
       "         246          247        248       249        250      251  252  \n",
       "0 -37.630448  -300.747724 -25.832889 -0.694428 -12.175933 -0.45614  1.0  \n",
       "1 -37.630448  -234.747724 -22.832889 -0.694428  -9.175933 -0.45614  0.0  \n",
       "2 -37.630448  -306.747724 -25.832889 -0.694428 -12.175933 -0.45614  0.0  \n",
       "3 -37.630448  -306.747724 -25.832889 -0.694428 -12.175933 -0.45614  0.0  \n",
       "4 -18.630448  1610.252276 -14.832889 -0.694428  -1.175933 -0.45614  0.0  \n",
       "\n",
       "[5 rows x 257 columns]"
      ]
     },
     "execution_count": 14,
     "metadata": {},
     "output_type": "execute_result"
    }
   ],
   "source": [
    "data_train_chart.head()"
   ]
  },
  {
   "cell_type": "code",
   "execution_count": 15,
   "id": "skilled-crisis",
   "metadata": {},
   "outputs": [
    {
     "data": {
      "text/html": [
       "<div>\n",
       "<style scoped>\n",
       "    .dataframe tbody tr th:only-of-type {\n",
       "        vertical-align: middle;\n",
       "    }\n",
       "\n",
       "    .dataframe tbody tr th {\n",
       "        vertical-align: top;\n",
       "    }\n",
       "\n",
       "    .dataframe thead th {\n",
       "        text-align: right;\n",
       "    }\n",
       "</style>\n",
       "<table border=\"1\" class=\"dataframe\">\n",
       "  <thead>\n",
       "    <tr style=\"text-align: right;\">\n",
       "      <th></th>\n",
       "      <th>id</th>\n",
       "      <th>buy_time</th>\n",
       "      <th>target</th>\n",
       "      <th>0</th>\n",
       "      <th>1</th>\n",
       "      <th>2</th>\n",
       "      <th>3</th>\n",
       "      <th>4</th>\n",
       "      <th>5</th>\n",
       "      <th>6</th>\n",
       "      <th>...</th>\n",
       "      <th>243</th>\n",
       "      <th>244</th>\n",
       "      <th>245</th>\n",
       "      <th>246</th>\n",
       "      <th>247</th>\n",
       "      <th>248</th>\n",
       "      <th>249</th>\n",
       "      <th>250</th>\n",
       "      <th>251</th>\n",
       "      <th>252</th>\n",
       "    </tr>\n",
       "  </thead>\n",
       "  <tbody>\n",
       "    <tr>\n",
       "      <th>0</th>\n",
       "      <td>3769599</td>\n",
       "      <td>1540760400</td>\n",
       "      <td>0.0</td>\n",
       "      <td>199.810029</td>\n",
       "      <td>-106.489112</td>\n",
       "      <td>185.869214</td>\n",
       "      <td>-159.096798</td>\n",
       "      <td>180.451754</td>\n",
       "      <td>-180.20179</td>\n",
       "      <td>-16.08618</td>\n",
       "      <td>...</td>\n",
       "      <td>-977.373846</td>\n",
       "      <td>-613.770792</td>\n",
       "      <td>-25.996269</td>\n",
       "      <td>-37.630448</td>\n",
       "      <td>-300.747724</td>\n",
       "      <td>-25.832889</td>\n",
       "      <td>-0.694428</td>\n",
       "      <td>-12.175933</td>\n",
       "      <td>-0.45614</td>\n",
       "      <td>1.0</td>\n",
       "    </tr>\n",
       "    <tr>\n",
       "      <th>1</th>\n",
       "      <td>3726958</td>\n",
       "      <td>1532293200</td>\n",
       "      <td>1.0</td>\n",
       "      <td>106.510029</td>\n",
       "      <td>58.440888</td>\n",
       "      <td>179.839214</td>\n",
       "      <td>227.803202</td>\n",
       "      <td>174.421754</td>\n",
       "      <td>206.69821</td>\n",
       "      <td>13.57382</td>\n",
       "      <td>...</td>\n",
       "      <td>-733.373846</td>\n",
       "      <td>-463.770792</td>\n",
       "      <td>-25.996269</td>\n",
       "      <td>-37.630448</td>\n",
       "      <td>-234.747724</td>\n",
       "      <td>-22.832889</td>\n",
       "      <td>-0.694428</td>\n",
       "      <td>-9.175933</td>\n",
       "      <td>-0.45614</td>\n",
       "      <td>0.0</td>\n",
       "    </tr>\n",
       "    <tr>\n",
       "      <th>2</th>\n",
       "      <td>854525</td>\n",
       "      <td>1544994000</td>\n",
       "      <td>1.0</td>\n",
       "      <td>-96.119971</td>\n",
       "      <td>-386.899112</td>\n",
       "      <td>-110.060786</td>\n",
       "      <td>-439.506798</td>\n",
       "      <td>-115.478246</td>\n",
       "      <td>-460.61179</td>\n",
       "      <td>-16.08618</td>\n",
       "      <td>...</td>\n",
       "      <td>-977.373846</td>\n",
       "      <td>-613.770792</td>\n",
       "      <td>-25.996269</td>\n",
       "      <td>-37.630448</td>\n",
       "      <td>-306.747724</td>\n",
       "      <td>-25.832889</td>\n",
       "      <td>-0.694428</td>\n",
       "      <td>-12.175933</td>\n",
       "      <td>-0.45614</td>\n",
       "      <td>0.0</td>\n",
       "    </tr>\n",
       "    <tr>\n",
       "      <th>3</th>\n",
       "      <td>877039</td>\n",
       "      <td>1532898000</td>\n",
       "      <td>0.0</td>\n",
       "      <td>-96.799971</td>\n",
       "      <td>263.440888</td>\n",
       "      <td>-110.740786</td>\n",
       "      <td>270.163202</td>\n",
       "      <td>-116.158246</td>\n",
       "      <td>249.05821</td>\n",
       "      <td>-16.08618</td>\n",
       "      <td>...</td>\n",
       "      <td>-977.373846</td>\n",
       "      <td>-613.770792</td>\n",
       "      <td>-25.996269</td>\n",
       "      <td>-37.630448</td>\n",
       "      <td>-306.747724</td>\n",
       "      <td>-25.832889</td>\n",
       "      <td>-0.694428</td>\n",
       "      <td>-12.175933</td>\n",
       "      <td>-0.45614</td>\n",
       "      <td>0.0</td>\n",
       "    </tr>\n",
       "    <tr>\n",
       "      <th>4</th>\n",
       "      <td>743296</td>\n",
       "      <td>1531688400</td>\n",
       "      <td>0.0</td>\n",
       "      <td>-92.559971</td>\n",
       "      <td>-380.799112</td>\n",
       "      <td>-102.260786</td>\n",
       "      <td>-429.166798</td>\n",
       "      <td>-107.678246</td>\n",
       "      <td>-450.27179</td>\n",
       "      <td>-16.08618</td>\n",
       "      <td>...</td>\n",
       "      <td>-734.373846</td>\n",
       "      <td>-374.770792</td>\n",
       "      <td>-23.996269</td>\n",
       "      <td>-18.630448</td>\n",
       "      <td>1610.252276</td>\n",
       "      <td>-14.832889</td>\n",
       "      <td>-0.694428</td>\n",
       "      <td>-1.175933</td>\n",
       "      <td>-0.45614</td>\n",
       "      <td>0.0</td>\n",
       "    </tr>\n",
       "  </tbody>\n",
       "</table>\n",
       "<p>5 rows × 256 columns</p>\n",
       "</div>"
      ],
      "text/plain": [
       "        id    buy_time  target           0           1           2  \\\n",
       "0  3769599  1540760400     0.0  199.810029 -106.489112  185.869214   \n",
       "1  3726958  1532293200     1.0  106.510029   58.440888  179.839214   \n",
       "2   854525  1544994000     1.0  -96.119971 -386.899112 -110.060786   \n",
       "3   877039  1532898000     0.0  -96.799971  263.440888 -110.740786   \n",
       "4   743296  1531688400     0.0  -92.559971 -380.799112 -102.260786   \n",
       "\n",
       "            3           4          5         6  ...         243         244  \\\n",
       "0 -159.096798  180.451754 -180.20179 -16.08618  ... -977.373846 -613.770792   \n",
       "1  227.803202  174.421754  206.69821  13.57382  ... -733.373846 -463.770792   \n",
       "2 -439.506798 -115.478246 -460.61179 -16.08618  ... -977.373846 -613.770792   \n",
       "3  270.163202 -116.158246  249.05821 -16.08618  ... -977.373846 -613.770792   \n",
       "4 -429.166798 -107.678246 -450.27179 -16.08618  ... -734.373846 -374.770792   \n",
       "\n",
       "         245        246          247        248       249        250      251  \\\n",
       "0 -25.996269 -37.630448  -300.747724 -25.832889 -0.694428 -12.175933 -0.45614   \n",
       "1 -25.996269 -37.630448  -234.747724 -22.832889 -0.694428  -9.175933 -0.45614   \n",
       "2 -25.996269 -37.630448  -306.747724 -25.832889 -0.694428 -12.175933 -0.45614   \n",
       "3 -25.996269 -37.630448  -306.747724 -25.832889 -0.694428 -12.175933 -0.45614   \n",
       "4 -23.996269 -18.630448  1610.252276 -14.832889 -0.694428  -1.175933 -0.45614   \n",
       "\n",
       "   252  \n",
       "0  1.0  \n",
       "1  0.0  \n",
       "2  0.0  \n",
       "3  0.0  \n",
       "4  0.0  \n",
       "\n",
       "[5 rows x 256 columns]"
      ]
     },
     "execution_count": 15,
     "metadata": {},
     "output_type": "execute_result"
    }
   ],
   "source": [
    "data_train_mib.head()"
   ]
  },
  {
   "cell_type": "code",
   "execution_count": 16,
   "id": "adapted-given",
   "metadata": {},
   "outputs": [],
   "source": [
    "data_train_chart['buy_time'] = pd.to_datetime(data_train_chart['buy_time'],unit='s')"
   ]
  },
  {
   "cell_type": "code",
   "execution_count": null,
   "id": "comparative-enterprise",
   "metadata": {},
   "outputs": [],
   "source": []
  },
  {
   "cell_type": "markdown",
   "id": "running-prototype",
   "metadata": {},
   "source": [
    "# charts"
   ]
  },
  {
   "cell_type": "code",
   "execution_count": 17,
   "id": "progressive-cycle",
   "metadata": {},
   "outputs": [
    {
     "data": {
      "text/plain": [
       "array([5., 2., 6., 4., 7., 1., 8., 9.])"
      ]
     },
     "execution_count": 17,
     "metadata": {},
     "output_type": "execute_result"
    }
   ],
   "source": [
    "data_train_chart['vas_id'].unique()"
   ]
  },
  {
   "cell_type": "code",
   "execution_count": 18,
   "id": "figured-invitation",
   "metadata": {},
   "outputs": [],
   "source": [
    "data_train_chart_1 = data_train_chart[data_train_chart['vas_id'] == 1]"
   ]
  },
  {
   "cell_type": "code",
   "execution_count": 19,
   "id": "chemical-checkout",
   "metadata": {},
   "outputs": [
    {
     "data": {
      "text/plain": [
       "Text(0, 0.5, 'id')"
      ]
     },
     "execution_count": 19,
     "metadata": {},
     "output_type": "execute_result"
    },
    {
     "data": {
      "image/png": "[encoded data removed]",
      "text/plain": [
       "<Figure size 1080x720 with 1 Axes>"
      ]
     },
     "metadata": {
      "needs_background": "light"
     },
     "output_type": "display_data"
    }
   ],
   "source": [
    "plt.figure(figsize = (15,10))\n",
    "data_train_chart.groupby(['buy_time'])['id'].mean().plot(grid= True, rot =45, title= 'sales by time', marker ='.', markersize=10)\n",
    "plt.ylabel('id')"
   ]
  },
  {
   "cell_type": "code",
   "execution_count": null,
   "id": "personalized-encoding",
   "metadata": {},
   "outputs": [],
   "source": []
  },
  {
   "cell_type": "code",
   "execution_count": 20,
   "id": "legislative-browser",
   "metadata": {},
   "outputs": [
    {
     "data": {
      "text/plain": [
       "Text(0, 0.5, 'vas_id')"
      ]
     },
     "execution_count": 20,
     "metadata": {},
     "output_type": "execute_result"
    },
    {
     "data": {
      "image/png": "[encoded data removed]",
      "text/plain": [
       "<Figure size 1080x720 with 1 Axes>"
      ]
     },
     "metadata": {
      "needs_background": "light"
     },
     "output_type": "display_data"
    }
   ],
   "source": [
    "plt.figure(figsize = (15,10))\n",
    "data_train_chart.groupby(['buy_time'])['vas_id'].mean().plot(grid= True, rot =45, title= 'sales by time', marker ='.', markersize=10)\n",
    "plt.ylabel('vas_id')"
   ]
  },
  {
   "cell_type": "code",
   "execution_count": null,
   "id": "elder-stationery",
   "metadata": {},
   "outputs": [],
   "source": []
  },
  {
   "cell_type": "code",
   "execution_count": 21,
   "id": "driven-indian",
   "metadata": {},
   "outputs": [
    {
     "data": {
      "text/plain": [
       "Text(0, 0.5, 'id')"
      ]
     },
     "execution_count": 21,
     "metadata": {},
     "output_type": "execute_result"
    },
    {
     "data": {
      "image/png": "[encoded data removed]",
      "text/plain": [
       "<Figure size 1080x720 with 1 Axes>"
      ]
     },
     "metadata": {
      "needs_background": "light"
     },
     "output_type": "display_data"
    }
   ],
   "source": [
    "plt.figure(figsize = (15,10))\n",
    "data_train_chart.groupby(['id'])['vas_id'].mean().hist()\n",
    "plt.ylabel('id')"
   ]
  },
  {
   "cell_type": "code",
   "execution_count": null,
   "id": "missing-roller",
   "metadata": {},
   "outputs": [],
   "source": []
  },
  {
   "cell_type": "markdown",
   "id": "sound-paint",
   "metadata": {},
   "source": [
    "# BaseLine"
   ]
  },
  {
   "cell_type": "code",
   "execution_count": 22,
   "id": "fleet-latter",
   "metadata": {},
   "outputs": [],
   "source": [
    "TimeStamp = 'buy_time'"
   ]
  },
  {
   "cell_type": "code",
   "execution_count": 23,
   "id": "biblical-clerk",
   "metadata": {},
   "outputs": [],
   "source": [
    "X = data_train_mib.drop(target,1)\n",
    "y = data_train_mib[target]"
   ]
  },
  {
   "cell_type": "code",
   "execution_count": 24,
   "id": "cooked-gospel",
   "metadata": {},
   "outputs": [],
   "source": [
    "# X_train = data_train_mib[(data_train_mib['buy_time'].dt.month <= 11) ]\n",
    "# X_test = data_train_mib[data_train_mib['buy_time'].dt.month == 12 ]"
   ]
  },
  {
   "cell_type": "code",
   "execution_count": 25,
   "id": "african-appointment",
   "metadata": {},
   "outputs": [],
   "source": [
    "X_train, X_val, y_train, y_val = train_test_split(X, y, test_size=0.25,  random_state = RANDOM_STATE)"
   ]
  },
  {
   "cell_type": "code",
   "execution_count": 26,
   "id": "transparent-endorsement",
   "metadata": {},
   "outputs": [],
   "source": [
    "lgr = LogisticRegression()"
   ]
  },
  {
   "cell_type": "code",
   "execution_count": 27,
   "id": "sonic-ontario",
   "metadata": {},
   "outputs": [],
   "source": [
    "lgr = lgr.fit(X_train, y_train)"
   ]
  },
  {
   "cell_type": "code",
   "execution_count": 28,
   "id": "legendary-offense",
   "metadata": {},
   "outputs": [],
   "source": [
    "lgr_pred = lgr.predict(X_val)"
   ]
  },
  {
   "cell_type": "code",
   "execution_count": 29,
   "id": "clinical-glass",
   "metadata": {},
   "outputs": [
    {
     "name": "stdout",
     "output_type": "stream",
     "text": [
      "              precision    recall  f1-score   support\n",
      "\n",
      "         0.0       0.93      1.00      0.96      9071\n",
      "         1.0       0.00      0.00      0.00       659\n",
      "\n",
      "    accuracy                           0.93      9730\n",
      "   macro avg       0.47      0.50      0.48      9730\n",
      "weighted avg       0.87      0.93      0.90      9730\n",
      "\n"
     ]
    }
   ],
   "source": [
    "print(classification_report(y_val, lgr_pred))"
   ]
  },
  {
   "cell_type": "code",
   "execution_count": 30,
   "id": "third-outside",
   "metadata": {},
   "outputs": [
    {
     "data": {
      "text/plain": [
       "0.0    36277\n",
       "1.0     2642\n",
       "Name: target, dtype: int64"
      ]
     },
     "execution_count": 30,
     "metadata": {},
     "output_type": "execute_result"
    }
   ],
   "source": [
    "data_train_mib[target].value_counts()"
   ]
  },
  {
   "cell_type": "markdown",
   "id": "greater-tribe",
   "metadata": {},
   "source": [
    "из-за сильного дисбаланса модель не предсказывает \"1\""
   ]
  },
  {
   "cell_type": "markdown",
   "id": "connected-retreat",
   "metadata": {},
   "source": [
    "# balance target"
   ]
  },
  {
   "cell_type": "code",
   "execution_count": 31,
   "id": "fewer-album",
   "metadata": {},
   "outputs": [],
   "source": [
    "# убираю дисбаланс и удаляю дубликаты, т.к после процедуры выравнивания появятся к тем немногим дубликатам которые были ещё\n",
    "def balance(data, target, method):\n",
    "    bl = method(random_state= RANDOM_STATE)\n",
    "    X = data.drop(target, 1)\n",
    "    y = data[target]\n",
    "    X_bal, y_bal = bl.fit_resample(X, y)\n",
    "    data = pd.concat([X_bal, y_bal], axis=1)\n",
    "    \n",
    "#     data.set_index('buy_time', inplace=True)\n",
    "    \n",
    "    data_dupl = data[data.duplicated(keep=False)]\n",
    "    data = data[~data.index.isin(data_dupl.index)]\n",
    "    \n",
    "    return data"
   ]
  },
  {
   "cell_type": "code",
   "execution_count": 32,
   "id": "dangerous-stake",
   "metadata": {},
   "outputs": [],
   "source": [
    "data_train =pd.DataFrame(balance(data_train_mib, target, SMOTE))"
   ]
  },
  {
   "cell_type": "code",
   "execution_count": 33,
   "id": "competitive-tablet",
   "metadata": {},
   "outputs": [
    {
     "data": {
      "text/plain": [
       "0.0    36277\n",
       "1.0    36271\n",
       "Name: target, dtype: int64"
      ]
     },
     "execution_count": 33,
     "metadata": {},
     "output_type": "execute_result"
    }
   ],
   "source": [
    "data_train[target].value_counts()"
   ]
  },
  {
   "cell_type": "code",
   "execution_count": 34,
   "id": "spoken-recipient",
   "metadata": {},
   "outputs": [
    {
     "data": {
      "text/html": [
       "<div>\n",
       "<style scoped>\n",
       "    .dataframe tbody tr th:only-of-type {\n",
       "        vertical-align: middle;\n",
       "    }\n",
       "\n",
       "    .dataframe tbody tr th {\n",
       "        vertical-align: top;\n",
       "    }\n",
       "\n",
       "    .dataframe thead th {\n",
       "        text-align: right;\n",
       "    }\n",
       "</style>\n",
       "<table border=\"1\" class=\"dataframe\">\n",
       "  <thead>\n",
       "    <tr style=\"text-align: right;\">\n",
       "      <th></th>\n",
       "      <th>id</th>\n",
       "      <th>buy_time</th>\n",
       "      <th>0</th>\n",
       "      <th>1</th>\n",
       "      <th>2</th>\n",
       "      <th>3</th>\n",
       "      <th>4</th>\n",
       "      <th>5</th>\n",
       "      <th>6</th>\n",
       "      <th>7</th>\n",
       "      <th>...</th>\n",
       "      <th>244</th>\n",
       "      <th>245</th>\n",
       "      <th>246</th>\n",
       "      <th>247</th>\n",
       "      <th>248</th>\n",
       "      <th>249</th>\n",
       "      <th>250</th>\n",
       "      <th>251</th>\n",
       "      <th>252</th>\n",
       "      <th>target</th>\n",
       "    </tr>\n",
       "  </thead>\n",
       "  <tbody>\n",
       "    <tr>\n",
       "      <th>0</th>\n",
       "      <td>3769599</td>\n",
       "      <td>1540760400</td>\n",
       "      <td>199.810029</td>\n",
       "      <td>-106.489112</td>\n",
       "      <td>185.869214</td>\n",
       "      <td>-159.096798</td>\n",
       "      <td>180.451754</td>\n",
       "      <td>-180.20179</td>\n",
       "      <td>-16.08618</td>\n",
       "      <td>-65.076097</td>\n",
       "      <td>...</td>\n",
       "      <td>-613.770792</td>\n",
       "      <td>-25.996269</td>\n",
       "      <td>-37.630448</td>\n",
       "      <td>-300.747724</td>\n",
       "      <td>-25.832889</td>\n",
       "      <td>-0.694428</td>\n",
       "      <td>-12.175933</td>\n",
       "      <td>-0.45614</td>\n",
       "      <td>1.0</td>\n",
       "      <td>0.0</td>\n",
       "    </tr>\n",
       "    <tr>\n",
       "      <th>1</th>\n",
       "      <td>3726958</td>\n",
       "      <td>1532293200</td>\n",
       "      <td>106.510029</td>\n",
       "      <td>58.440888</td>\n",
       "      <td>179.839214</td>\n",
       "      <td>227.803202</td>\n",
       "      <td>174.421754</td>\n",
       "      <td>206.69821</td>\n",
       "      <td>13.57382</td>\n",
       "      <td>53.573903</td>\n",
       "      <td>...</td>\n",
       "      <td>-463.770792</td>\n",
       "      <td>-25.996269</td>\n",
       "      <td>-37.630448</td>\n",
       "      <td>-234.747724</td>\n",
       "      <td>-22.832889</td>\n",
       "      <td>-0.694428</td>\n",
       "      <td>-9.175933</td>\n",
       "      <td>-0.45614</td>\n",
       "      <td>0.0</td>\n",
       "      <td>1.0</td>\n",
       "    </tr>\n",
       "    <tr>\n",
       "      <th>2</th>\n",
       "      <td>854525</td>\n",
       "      <td>1544994000</td>\n",
       "      <td>-96.119971</td>\n",
       "      <td>-386.899112</td>\n",
       "      <td>-110.060786</td>\n",
       "      <td>-439.506798</td>\n",
       "      <td>-115.478246</td>\n",
       "      <td>-460.61179</td>\n",
       "      <td>-16.08618</td>\n",
       "      <td>-65.076097</td>\n",
       "      <td>...</td>\n",
       "      <td>-613.770792</td>\n",
       "      <td>-25.996269</td>\n",
       "      <td>-37.630448</td>\n",
       "      <td>-306.747724</td>\n",
       "      <td>-25.832889</td>\n",
       "      <td>-0.694428</td>\n",
       "      <td>-12.175933</td>\n",
       "      <td>-0.45614</td>\n",
       "      <td>0.0</td>\n",
       "      <td>1.0</td>\n",
       "    </tr>\n",
       "    <tr>\n",
       "      <th>3</th>\n",
       "      <td>877039</td>\n",
       "      <td>1532898000</td>\n",
       "      <td>-96.799971</td>\n",
       "      <td>263.440888</td>\n",
       "      <td>-110.740786</td>\n",
       "      <td>270.163202</td>\n",
       "      <td>-116.158246</td>\n",
       "      <td>249.05821</td>\n",
       "      <td>-16.08618</td>\n",
       "      <td>-5.756097</td>\n",
       "      <td>...</td>\n",
       "      <td>-613.770792</td>\n",
       "      <td>-25.996269</td>\n",
       "      <td>-37.630448</td>\n",
       "      <td>-306.747724</td>\n",
       "      <td>-25.832889</td>\n",
       "      <td>-0.694428</td>\n",
       "      <td>-12.175933</td>\n",
       "      <td>-0.45614</td>\n",
       "      <td>0.0</td>\n",
       "      <td>0.0</td>\n",
       "    </tr>\n",
       "    <tr>\n",
       "      <th>4</th>\n",
       "      <td>743296</td>\n",
       "      <td>1531688400</td>\n",
       "      <td>-92.559971</td>\n",
       "      <td>-380.799112</td>\n",
       "      <td>-102.260786</td>\n",
       "      <td>-429.166798</td>\n",
       "      <td>-107.678246</td>\n",
       "      <td>-450.27179</td>\n",
       "      <td>-16.08618</td>\n",
       "      <td>-65.076097</td>\n",
       "      <td>...</td>\n",
       "      <td>-374.770792</td>\n",
       "      <td>-23.996269</td>\n",
       "      <td>-18.630448</td>\n",
       "      <td>1610.252276</td>\n",
       "      <td>-14.832889</td>\n",
       "      <td>-0.694428</td>\n",
       "      <td>-1.175933</td>\n",
       "      <td>-0.45614</td>\n",
       "      <td>0.0</td>\n",
       "      <td>0.0</td>\n",
       "    </tr>\n",
       "  </tbody>\n",
       "</table>\n",
       "<p>5 rows × 256 columns</p>\n",
       "</div>"
      ],
      "text/plain": [
       "        id    buy_time           0           1           2           3  \\\n",
       "0  3769599  1540760400  199.810029 -106.489112  185.869214 -159.096798   \n",
       "1  3726958  1532293200  106.510029   58.440888  179.839214  227.803202   \n",
       "2   854525  1544994000  -96.119971 -386.899112 -110.060786 -439.506798   \n",
       "3   877039  1532898000  -96.799971  263.440888 -110.740786  270.163202   \n",
       "4   743296  1531688400  -92.559971 -380.799112 -102.260786 -429.166798   \n",
       "\n",
       "            4          5         6          7  ...         244        245  \\\n",
       "0  180.451754 -180.20179 -16.08618 -65.076097  ... -613.770792 -25.996269   \n",
       "1  174.421754  206.69821  13.57382  53.573903  ... -463.770792 -25.996269   \n",
       "2 -115.478246 -460.61179 -16.08618 -65.076097  ... -613.770792 -25.996269   \n",
       "3 -116.158246  249.05821 -16.08618  -5.756097  ... -613.770792 -25.996269   \n",
       "4 -107.678246 -450.27179 -16.08618 -65.076097  ... -374.770792 -23.996269   \n",
       "\n",
       "         246          247        248       249        250      251  252  \\\n",
       "0 -37.630448  -300.747724 -25.832889 -0.694428 -12.175933 -0.45614  1.0   \n",
       "1 -37.630448  -234.747724 -22.832889 -0.694428  -9.175933 -0.45614  0.0   \n",
       "2 -37.630448  -306.747724 -25.832889 -0.694428 -12.175933 -0.45614  0.0   \n",
       "3 -37.630448  -306.747724 -25.832889 -0.694428 -12.175933 -0.45614  0.0   \n",
       "4 -18.630448  1610.252276 -14.832889 -0.694428  -1.175933 -0.45614  0.0   \n",
       "\n",
       "   target  \n",
       "0     0.0  \n",
       "1     1.0  \n",
       "2     1.0  \n",
       "3     0.0  \n",
       "4     0.0  \n",
       "\n",
       "[5 rows x 256 columns]"
      ]
     },
     "execution_count": 34,
     "metadata": {},
     "output_type": "execute_result"
    }
   ],
   "source": [
    "data_train.head()"
   ]
  },
  {
   "cell_type": "code",
   "execution_count": null,
   "id": "weighted-browser",
   "metadata": {},
   "outputs": [],
   "source": []
  },
  {
   "cell_type": "code",
   "execution_count": 59,
   "id": "encouraging-benefit",
   "metadata": {},
   "outputs": [],
   "source": [
    "# data_train['buy_time'] = pd.to_datetime(data_train['buy_time'],unit='s')\n",
    "data_test_mib['buy_time'] = pd.to_datetime(data_test_mib['buy_time'],unit='s')"
   ]
  },
  {
   "cell_type": "code",
   "execution_count": 60,
   "id": "cognitive-minnesota",
   "metadata": {},
   "outputs": [],
   "source": [
    "# data_train = data_train.sort_values(by = 'buy_time')\n",
    "data_test_mib = data_test_mib.sort_values(by = 'buy_time')"
   ]
  },
  {
   "cell_type": "code",
   "execution_count": 61,
   "id": "ranging-bridal",
   "metadata": {},
   "outputs": [],
   "source": [
    "# data_train.set_index('buy_time', inplace=True)\n",
    "data_test_mib.set_index('buy_time', inplace=True)"
   ]
  },
  {
   "cell_type": "code",
   "execution_count": null,
   "id": "limiting-tennis",
   "metadata": {},
   "outputs": [],
   "source": []
  },
  {
   "cell_type": "markdown",
   "id": "civic-somerset",
   "metadata": {},
   "source": [
    "# training model"
   ]
  },
  {
   "cell_type": "code",
   "execution_count": 38,
   "id": "medium-workstation",
   "metadata": {},
   "outputs": [
    {
     "data": {
      "text/html": [
       "<div>\n",
       "<style scoped>\n",
       "    .dataframe tbody tr th:only-of-type {\n",
       "        vertical-align: middle;\n",
       "    }\n",
       "\n",
       "    .dataframe tbody tr th {\n",
       "        vertical-align: top;\n",
       "    }\n",
       "\n",
       "    .dataframe thead th {\n",
       "        text-align: right;\n",
       "    }\n",
       "</style>\n",
       "<table border=\"1\" class=\"dataframe\">\n",
       "  <thead>\n",
       "    <tr style=\"text-align: right;\">\n",
       "      <th></th>\n",
       "      <th>f1</th>\n",
       "      <th>LogisticRegression()</th>\n",
       "      <th>KNeighborsClassifier()</th>\n",
       "      <th>GradientBoostingClassifier()</th>\n",
       "      <th>LGBMClassifier()</th>\n",
       "      <th>CatBoostClassifire</th>\n",
       "      <th>RandomForestClassifier()</th>\n",
       "    </tr>\n",
       "  </thead>\n",
       "  <tbody>\n",
       "    <tr>\n",
       "      <th>0</th>\n",
       "      <td>1</td>\n",
       "      <td>0.58</td>\n",
       "      <td>0.68</td>\n",
       "      <td>0.94</td>\n",
       "      <td>0.94</td>\n",
       "      <td>0.94</td>\n",
       "      <td>0.92</td>\n",
       "    </tr>\n",
       "    <tr>\n",
       "      <th>1</th>\n",
       "      <td>macro</td>\n",
       "      <td>0.48</td>\n",
       "      <td>0.66</td>\n",
       "      <td>0.94</td>\n",
       "      <td>0.95</td>\n",
       "      <td>0.95</td>\n",
       "      <td>0.93</td>\n",
       "    </tr>\n",
       "    <tr>\n",
       "      <th>2</th>\n",
       "      <td>micro</td>\n",
       "      <td>0.48</td>\n",
       "      <td>0.66</td>\n",
       "      <td>0.94</td>\n",
       "      <td>0.95</td>\n",
       "      <td>0.95</td>\n",
       "      <td>0.93</td>\n",
       "    </tr>\n",
       "    <tr>\n",
       "      <th>3</th>\n",
       "      <td>weighted</td>\n",
       "      <td>0.47</td>\n",
       "      <td>0.65</td>\n",
       "      <td>0.94</td>\n",
       "      <td>0.95</td>\n",
       "      <td>0.95</td>\n",
       "      <td>0.93</td>\n",
       "    </tr>\n",
       "  </tbody>\n",
       "</table>\n",
       "</div>"
      ],
      "text/plain": [
       "         f1  LogisticRegression()  KNeighborsClassifier()  \\\n",
       "0         1                  0.58                    0.68   \n",
       "1     macro                  0.48                    0.66   \n",
       "2     micro                  0.48                    0.66   \n",
       "3  weighted                  0.47                    0.65   \n",
       "\n",
       "   GradientBoostingClassifier()  LGBMClassifier()  CatBoostClassifire  \\\n",
       "0                          0.94              0.94                0.94   \n",
       "1                          0.94              0.95                0.95   \n",
       "2                          0.94              0.95                0.95   \n",
       "3                          0.94              0.95                0.95   \n",
       "\n",
       "   RandomForestClassifier()  \n",
       "0                      0.92  \n",
       "1                      0.93  \n",
       "2                      0.93  \n",
       "3                      0.93  "
      ]
     },
     "execution_count": 38,
     "metadata": {},
     "output_type": "execute_result"
    }
   ],
   "source": [
    "score = pd.read_csv('score.csv',index_col=0)\n",
    "score.head()"
   ]
  },
  {
   "cell_type": "markdown",
   "id": "pediatric-queen",
   "metadata": {},
   "source": [
    "мною были обучены модели представленные в датафрейме \"score\", выбор модели сделал по метрике \"f1 macro\""
   ]
  },
  {
   "cell_type": "code",
   "execution_count": 39,
   "id": "imperial-palestinian",
   "metadata": {},
   "outputs": [],
   "source": [
    "# score = pd.DataFrame({'f1': ['1', 'macro', 'micro', 'weighted']})\n",
    "# score.to_csv('score.csv')"
   ]
  },
  {
   "cell_type": "markdown",
   "id": "established-maximum",
   "metadata": {},
   "source": [
    "в функции \"process_ml\" я делаю стандартизацию признаков и обучаю на выбранной модели"
   ]
  },
  {
   "cell_type": "code",
   "execution_count": 40,
   "id": "coupled-chester",
   "metadata": {},
   "outputs": [],
   "source": [
    "def process_ml(data, target, model):\n",
    "    print(str(model).split('.')[0])\n",
    "        \n",
    "    X = data.drop(target, 1)\n",
    "    y = data[target]\n",
    "    \n",
    "    X_train, X_test, y_train, y_test = train_test_split(X, y, test_size= 0.25,shuffle = False, random_state = RANDOM_STATE) \n",
    "    \n",
    "    pipe = Pipeline([('scaler', StandardScaler()),\n",
    "                     ('model', model)])\n",
    "    model_pipe = pipe.fit(X_train, y_train)\n",
    "    pred = model_pipe.predict(X_test)\n",
    "    \n",
    "#     model_pipe = model\n",
    "#     model_pipe = model_pipe.fit(X_train, y_train)\n",
    "#     pred = model_pipe.predict(X_test)\n",
    "    \n",
    "    f1_1 = round(f1_score(y_test,pred), 2)\n",
    "    f1_macro = round(f1_score(y_test,pred, average='macro'), 2)\n",
    "    f1_micro = round(f1_score(y_test,pred, average='micro'), 2)\n",
    "    f1_weighted = round(f1_score(y_test,pred, average='weighted'), 2)\n",
    "    \n",
    "    score_sc = pd.DataFrame({'f1': ['1', 'macro', 'micro', 'weighted']})\n",
    "    if str(model).split('.')[0] == '<catboost':\n",
    "        score[f'CatBoostClassifire'] = [f1_1, f1_macro, f1_macro, f1_weighted]\n",
    "    else:\n",
    "        score[f'{model}'] = [f1_1, f1_macro, f1_macro, f1_weighted]\n",
    "    \n",
    "    print(classification_report(y_test, pred))\n",
    "    \n",
    "    with open(\"Voronkov_model.pkl\", \"wb\") as f:\n",
    "        pickle.dump(model_pipe, f)\n",
    "    \n",
    "    if str(model).split('.')[0] == '<catboost':\n",
    "        print( f'модель CatBoostClassifier отработала и была записана в файл (Voronkov_model.pkl), \\n выше показан score на тесте') \n",
    "    else:\n",
    "        print( f'модель {model} отработала и была записана в файл (Voronkov_model.pkl), \\n выше показан score на тесте')\n",
    "    \n",
    "    "
   ]
  },
  {
   "cell_type": "code",
   "execution_count": 437,
   "id": "israeli-contents",
   "metadata": {},
   "outputs": [
    {
     "name": "stdout",
     "output_type": "stream",
     "text": [
      "LogisticRegression()\n",
      "              precision    recall  f1-score   support\n",
      "\n",
      "         0.0       0.60      0.28      0.38      9922\n",
      "         1.0       0.47      0.77      0.58      8215\n",
      "\n",
      "    accuracy                           0.50     18137\n",
      "   macro avg       0.53      0.53      0.48     18137\n",
      "weighted avg       0.54      0.50      0.47     18137\n",
      "\n",
      "модель LogisticRegression() отработала и была записана в файл (Voronkov_model.pkl), \n",
      " выше показан score на тесте\n"
     ]
    }
   ],
   "source": [
    "process_ml(data_train, 'target', LogisticRegression())"
   ]
  },
  {
   "cell_type": "code",
   "execution_count": 438,
   "id": "brazilian-namibia",
   "metadata": {},
   "outputs": [
    {
     "name": "stdout",
     "output_type": "stream",
     "text": [
      "KNeighborsClassifier()\n",
      "              precision    recall  f1-score   support\n",
      "\n",
      "         0.0       0.77      0.53      0.63      9922\n",
      "         1.0       0.59      0.81      0.68      8215\n",
      "\n",
      "    accuracy                           0.66     18137\n",
      "   macro avg       0.68      0.67      0.66     18137\n",
      "weighted avg       0.69      0.66      0.65     18137\n",
      "\n",
      "модель KNeighborsClassifier() отработала и была записана в файл (Voronkov_model.pkl), \n",
      " выше показан score на тесте\n"
     ]
    }
   ],
   "source": [
    "process_ml(data_train, 'target', KNeighborsClassifier())"
   ]
  },
  {
   "cell_type": "code",
   "execution_count": 439,
   "id": "hairy-tennis",
   "metadata": {},
   "outputs": [
    {
     "name": "stdout",
     "output_type": "stream",
     "text": [
      "LGBMClassifier()\n",
      "              precision    recall  f1-score   support\n",
      "\n",
      "         0.0       0.92      1.00      0.96      9922\n",
      "         1.0       1.00      0.89      0.94      8215\n",
      "\n",
      "    accuracy                           0.95     18137\n",
      "   macro avg       0.96      0.94      0.95     18137\n",
      "weighted avg       0.95      0.95      0.95     18137\n",
      "\n",
      "модель LGBMClassifier() отработала и была записана в файл (Voronkov_model.pkl), \n",
      " выше показан score на тесте\n"
     ]
    }
   ],
   "source": [
    "process_ml(data_train, 'target', LGBMClassifier())"
   ]
  },
  {
   "cell_type": "code",
   "execution_count": 41,
   "id": "industrial-manor",
   "metadata": {},
   "outputs": [
    {
     "name": "stdout",
     "output_type": "stream",
     "text": [
      "<catboost\n",
      "              precision    recall  f1-score   support\n",
      "\n",
      "         0.0       0.92      1.00      0.96      9922\n",
      "         1.0       1.00      0.89      0.94      8215\n",
      "\n",
      "    accuracy                           0.95     18137\n",
      "   macro avg       0.96      0.94      0.95     18137\n",
      "weighted avg       0.95      0.95      0.95     18137\n",
      "\n",
      "модель CatBoostClassifier отработала и была записана в файл (Voronkov_model.pkl), \n",
      " выше показан score на тесте\n"
     ]
    }
   ],
   "source": [
    "process_ml(data_train, 'target', CatBoostClassifier(silent=True))"
   ]
  },
  {
   "cell_type": "code",
   "execution_count": 441,
   "id": "suburban-piano",
   "metadata": {},
   "outputs": [
    {
     "name": "stdout",
     "output_type": "stream",
     "text": [
      "RandomForestClassifier()\n",
      "              precision    recall  f1-score   support\n",
      "\n",
      "         0.0       0.89      1.00      0.94      9922\n",
      "         1.0       1.00      0.86      0.92      8215\n",
      "\n",
      "    accuracy                           0.93     18137\n",
      "   macro avg       0.95      0.93      0.93     18137\n",
      "weighted avg       0.94      0.93      0.93     18137\n",
      "\n",
      "модель RandomForestClassifier() отработала и была записана в файл (Voronkov_model.pkl), \n",
      " выше показан score на тесте\n"
     ]
    }
   ],
   "source": [
    "process_ml(data_train, 'target', RandomForestClassifier())"
   ]
  },
  {
   "cell_type": "code",
   "execution_count": 442,
   "id": "opened-break",
   "metadata": {},
   "outputs": [],
   "source": [
    "# score.to_csv('score.csv')"
   ]
  },
  {
   "cell_type": "markdown",
   "id": "speaking-receipt",
   "metadata": {},
   "source": [
    "## grid catboost"
   ]
  },
  {
   "cell_type": "code",
   "execution_count": 443,
   "id": "formed-formula",
   "metadata": {},
   "outputs": [],
   "source": [
    "# X = data_train.drop(target, 1)\n",
    "# y = data_train[target]\n",
    "    \n",
    "# X_train, X_test, y_train, y_test = train_test_split(X, y, test_size= 0.25, shuffle = False, random_state = RANDOM_STATE) "
   ]
  },
  {
   "cell_type": "code",
   "execution_count": null,
   "id": "shaped-turtle",
   "metadata": {},
   "outputs": [],
   "source": []
  },
  {
   "cell_type": "code",
   "execution_count": null,
   "id": "initial-protest",
   "metadata": {},
   "outputs": [],
   "source": []
  },
  {
   "cell_type": "code",
   "execution_count": 444,
   "id": "mechanical-bedroom",
   "metadata": {},
   "outputs": [],
   "source": [
    "# from sklearn.model_selection import GridSearchCV"
   ]
  },
  {
   "cell_type": "code",
   "execution_count": 445,
   "id": "supported-firewall",
   "metadata": {},
   "outputs": [],
   "source": [
    "# model_cat2 = CatBoostClassifier(random_state = RANDOM_STATE, silent=True)"
   ]
  },
  {
   "cell_type": "code",
   "execution_count": 446,
   "id": "loving-forest",
   "metadata": {},
   "outputs": [],
   "source": [
    "# param = {'learning_rate': [0.5, 0.01],\n",
    "#         'depth': [3, 10]}"
   ]
  },
  {
   "cell_type": "code",
   "execution_count": 447,
   "id": "fatty-flooring",
   "metadata": {},
   "outputs": [],
   "source": [
    "# grid_cat = GridSearchCV(model_cat2, param, n_jobs=-1, cv=5)"
   ]
  },
  {
   "cell_type": "code",
   "execution_count": 448,
   "id": "permanent-flush",
   "metadata": {},
   "outputs": [],
   "source": [
    "# grid_cat_res = grid_cat.fit(X_train,y_train)"
   ]
  },
  {
   "cell_type": "code",
   "execution_count": 449,
   "id": "equivalent-sleeping",
   "metadata": {},
   "outputs": [],
   "source": [
    "# grid_cat_pred = grid_cat_res.predict(X_test)"
   ]
  },
  {
   "cell_type": "code",
   "execution_count": 450,
   "id": "artistic-kitty",
   "metadata": {},
   "outputs": [],
   "source": [
    "# print(classification_report(y_test, grid_cat_pred))"
   ]
  },
  {
   "cell_type": "code",
   "execution_count": 451,
   "id": "iraqi-story",
   "metadata": {},
   "outputs": [],
   "source": [
    "# f1_1 = round(f1_score(y_test,grid_cat_pred), 2)\n",
    "# f1_macro = round(f1_score(y_test,grid_cat_pred, average='macro'), 2)\n",
    "# f1_micro = round(f1_score(y_test,grid_cat_pred, average='micro'), 2)\n",
    "# f1_weighted = round(f1_score(y_test,grid_cat_pred, average='weighted'), 2)\n",
    "    \n",
    "# score['grid_CatBoost'] = [f1_1, f1_macro, f1_macro, f1_weighted]"
   ]
  },
  {
   "cell_type": "code",
   "execution_count": 452,
   "id": "optimum-investing",
   "metadata": {},
   "outputs": [],
   "source": [
    "# score.to_csv('score.csv')"
   ]
  },
  {
   "cell_type": "markdown",
   "id": "turkish-smell",
   "metadata": {},
   "source": [
    "## grid GradientBoosting"
   ]
  },
  {
   "cell_type": "code",
   "execution_count": 453,
   "id": "chemical-humor",
   "metadata": {},
   "outputs": [],
   "source": [
    "# model_xgb = GradientBoostingClassifier(random_state = RANDOM_STATE)"
   ]
  },
  {
   "cell_type": "code",
   "execution_count": 454,
   "id": "informed-guitar",
   "metadata": {},
   "outputs": [],
   "source": [
    "# grid_xgb = GridSearchCV(model_xgb, param, n_jobs=-1, cv=5)"
   ]
  },
  {
   "cell_type": "code",
   "execution_count": 455,
   "id": "aware-governor",
   "metadata": {},
   "outputs": [],
   "source": [
    "# grid_xgb = grid_xgb.fit(X_train, y_train)"
   ]
  },
  {
   "cell_type": "code",
   "execution_count": 456,
   "id": "organized-lover",
   "metadata": {},
   "outputs": [],
   "source": [
    "# xgb_pred = grid_xgb.predict(X_test)"
   ]
  },
  {
   "cell_type": "code",
   "execution_count": 457,
   "id": "intermediate-karaoke",
   "metadata": {},
   "outputs": [],
   "source": [
    "# print(classification_report(y_test, xgb_pred))"
   ]
  },
  {
   "cell_type": "code",
   "execution_count": 458,
   "id": "noted-radius",
   "metadata": {},
   "outputs": [],
   "source": [
    "# f1_1 = round(f1_score(y_test,xgb_pred), 2)\n",
    "# f1_macro = round(f1_score(y_test,xgb_pred, average='macro'), 2)\n",
    "# f1_micro = round(f1_score(y_test,xgb_pred, average='micro'), 2)\n",
    "# f1_weighted = round(f1_score(y_test,xgb_pred, average='weighted'), 2)\n",
    "    \n",
    "# score['grid_XGB'] = [f1_1, f1_macro, f1_macro, f1_weighted]"
   ]
  },
  {
   "cell_type": "code",
   "execution_count": 459,
   "id": "vulnerable-protest",
   "metadata": {},
   "outputs": [],
   "source": [
    "# score.to_csv('score.csv')"
   ]
  },
  {
   "cell_type": "markdown",
   "id": "secure-honey",
   "metadata": {},
   "source": [
    "## lgboost"
   ]
  },
  {
   "cell_type": "code",
   "execution_count": 460,
   "id": "potential-apollo",
   "metadata": {},
   "outputs": [],
   "source": [
    "# model_lgbm = LGBMClassifier(random_state = RANDOM_STATE)"
   ]
  },
  {
   "cell_type": "code",
   "execution_count": 461,
   "id": "unsigned-jerusalem",
   "metadata": {},
   "outputs": [],
   "source": [
    "# grid_lgbm = GridSearchCV(model_lgbm, param, n_jobs=-1, cv=5)"
   ]
  },
  {
   "cell_type": "code",
   "execution_count": 462,
   "id": "aging-penalty",
   "metadata": {},
   "outputs": [],
   "source": [
    "# grid_lgbm = grid_lgbm.fit(X_train, y_train)"
   ]
  },
  {
   "cell_type": "code",
   "execution_count": 463,
   "id": "imported-fourth",
   "metadata": {},
   "outputs": [],
   "source": [
    "# lgbm_pred = grid_lgbm.predict(X_test)"
   ]
  },
  {
   "cell_type": "code",
   "execution_count": 464,
   "id": "earned-concrete",
   "metadata": {},
   "outputs": [],
   "source": [
    "# print(classification_report(y_test, lgbm_pred))"
   ]
  },
  {
   "cell_type": "code",
   "execution_count": 465,
   "id": "oriented-nothing",
   "metadata": {},
   "outputs": [],
   "source": [
    "# f1_1 = round(f1_score(y_test,lgbm_pred), 2)\n",
    "# f1_macro = round(f1_score(y_test,lgbm_pred, average='macro'), 2)\n",
    "# f1_micro = round(f1_score(y_test,lgbm_pred, average='micro'), 2)\n",
    "# f1_weighted = round(f1_score(y_test,lgbm_pred, average='weighted'), 2)\n",
    "    \n",
    "# score['grid_lgbm'] = [f1_1, f1_macro, f1_macro, f1_weighted]"
   ]
  },
  {
   "cell_type": "code",
   "execution_count": 466,
   "id": "signed-magnitude",
   "metadata": {},
   "outputs": [],
   "source": [
    "# score.to_csv('score.csv')"
   ]
  },
  {
   "cell_type": "code",
   "execution_count": null,
   "id": "silent-things",
   "metadata": {},
   "outputs": [],
   "source": []
  },
  {
   "cell_type": "code",
   "execution_count": null,
   "id": "local-dispatch",
   "metadata": {},
   "outputs": [],
   "source": []
  },
  {
   "cell_type": "markdown",
   "id": "potential-mountain",
   "metadata": {},
   "source": [
    "# load model"
   ]
  },
  {
   "cell_type": "code",
   "execution_count": 55,
   "id": "civic-bookmark",
   "metadata": {},
   "outputs": [],
   "source": [
    "with open(\"Voronkov_model.pkl\", \"rb\") as f:\n",
    "    Voronkov_model = pickle.load(f)"
   ]
  },
  {
   "cell_type": "code",
   "execution_count": 53,
   "id": "wanted-playing",
   "metadata": {},
   "outputs": [],
   "source": [
    "# data_test_mib.set_index('id', inplace=True)"
   ]
  },
  {
   "cell_type": "code",
   "execution_count": 62,
   "id": "external-newark",
   "metadata": {},
   "outputs": [],
   "source": [
    "data_test_mib.drop('vas_id', 1, inplace=True)"
   ]
  },
  {
   "cell_type": "code",
   "execution_count": 63,
   "id": "subsequent-money",
   "metadata": {},
   "outputs": [],
   "source": [
    "answers_test = Voronkov_model.predict(data_test_mib)"
   ]
  },
  {
   "cell_type": "code",
   "execution_count": 66,
   "id": "mediterranean-dutch",
   "metadata": {},
   "outputs": [],
   "source": [
    "answers_test = answers_test.T"
   ]
  },
  {
   "cell_type": "code",
   "execution_count": 69,
   "id": "incorporate-signal",
   "metadata": {},
   "outputs": [],
   "source": [
    "answers_test = pd.DataFrame(answers_test)"
   ]
  },
  {
   "cell_type": "code",
   "execution_count": 70,
   "id": "partial-exploration",
   "metadata": {},
   "outputs": [
    {
     "data": {
      "text/html": [
       "<div>\n",
       "<style scoped>\n",
       "    .dataframe tbody tr th:only-of-type {\n",
       "        vertical-align: middle;\n",
       "    }\n",
       "\n",
       "    .dataframe tbody tr th {\n",
       "        vertical-align: top;\n",
       "    }\n",
       "\n",
       "    .dataframe thead th {\n",
       "        text-align: right;\n",
       "    }\n",
       "</style>\n",
       "<table border=\"1\" class=\"dataframe\">\n",
       "  <thead>\n",
       "    <tr style=\"text-align: right;\">\n",
       "      <th></th>\n",
       "      <th>0</th>\n",
       "    </tr>\n",
       "  </thead>\n",
       "  <tbody>\n",
       "    <tr>\n",
       "      <th>0</th>\n",
       "      <td>0.0</td>\n",
       "    </tr>\n",
       "    <tr>\n",
       "      <th>1</th>\n",
       "      <td>0.0</td>\n",
       "    </tr>\n",
       "    <tr>\n",
       "      <th>2</th>\n",
       "      <td>0.0</td>\n",
       "    </tr>\n",
       "    <tr>\n",
       "      <th>3</th>\n",
       "      <td>0.0</td>\n",
       "    </tr>\n",
       "    <tr>\n",
       "      <th>4</th>\n",
       "      <td>0.0</td>\n",
       "    </tr>\n",
       "    <tr>\n",
       "      <th>...</th>\n",
       "      <td>...</td>\n",
       "    </tr>\n",
       "    <tr>\n",
       "      <th>2043</th>\n",
       "      <td>0.0</td>\n",
       "    </tr>\n",
       "    <tr>\n",
       "      <th>2044</th>\n",
       "      <td>0.0</td>\n",
       "    </tr>\n",
       "    <tr>\n",
       "      <th>2045</th>\n",
       "      <td>0.0</td>\n",
       "    </tr>\n",
       "    <tr>\n",
       "      <th>2046</th>\n",
       "      <td>0.0</td>\n",
       "    </tr>\n",
       "    <tr>\n",
       "      <th>2047</th>\n",
       "      <td>0.0</td>\n",
       "    </tr>\n",
       "  </tbody>\n",
       "</table>\n",
       "<p>2048 rows × 1 columns</p>\n",
       "</div>"
      ],
      "text/plain": [
       "        0\n",
       "0     0.0\n",
       "1     0.0\n",
       "2     0.0\n",
       "3     0.0\n",
       "4     0.0\n",
       "...   ...\n",
       "2043  0.0\n",
       "2044  0.0\n",
       "2045  0.0\n",
       "2046  0.0\n",
       "2047  0.0\n",
       "\n",
       "[2048 rows x 1 columns]"
      ]
     },
     "execution_count": 70,
     "metadata": {},
     "output_type": "execute_result"
    }
   ],
   "source": [
    "answers_test"
   ]
  },
  {
   "cell_type": "code",
   "execution_count": 71,
   "id": "swiss-dakota",
   "metadata": {},
   "outputs": [],
   "source": [
    "answers_test.to_csv('answers_test.csv')"
   ]
  },
  {
   "cell_type": "code",
   "execution_count": 72,
   "id": "incorporated-oriental",
   "metadata": {},
   "outputs": [
    {
     "data": {
      "text/plain": [
       "0.0    2047\n",
       "1.0       1\n",
       "Name: 0, dtype: int64"
      ]
     },
     "execution_count": 72,
     "metadata": {},
     "output_type": "execute_result"
    }
   ],
   "source": [
    "answers_test[0].value_counts()"
   ]
  },
  {
   "cell_type": "code",
   "execution_count": null,
   "id": "devoted-consumer",
   "metadata": {},
   "outputs": [],
   "source": []
  },
  {
   "cell_type": "code",
   "execution_count": null,
   "id": "nasty-union",
   "metadata": {},
   "outputs": [],
   "source": []
  },
  {
   "cell_type": "code",
   "execution_count": null,
   "id": "defensive-sessions",
   "metadata": {},
   "outputs": [],
   "source": []
  }
 ],
 "metadata": {
  "kernelspec": {
   "display_name": "Python 3",
   "language": "python",
   "name": "python3"
  },
  "language_info": {
   "codemirror_mode": {
    "name": "ipython",
    "version": 3
   },
   "file_extension": ".py",
   "mimetype": "text/x-python",
   "name": "python",
   "nbconvert_exporter": "python",
   "pygments_lexer": "ipython3",
   "version": "3.7.9"
  }
 },
 "nbformat": 4,
 "nbformat_minor": 5
}
